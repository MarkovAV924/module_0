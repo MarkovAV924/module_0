{
 "cells": [
  {
   "cell_type": "code",
   "execution_count": 2,
   "metadata": {},
   "outputs": [
    {
     "name": "stdout",
     "output_type": "stream",
     "text": [
      "Ваш алгоритм угадывает число в среднем за 6 попыток\n"
     ]
    },
    {
     "data": {
      "text/plain": [
       "6"
      ]
     },
     "execution_count": 2,
     "metadata": {},
     "output_type": "execute_result"
    }
   ],
   "source": [
    "import numpy as np\n",
    "def score_game(game_core):\n",
    "    '''Запускаем игру 1000 раз, чтобы узнать, как быстро игра угадывает число'''\n",
    "    count_ls = []\n",
    "    # фиксируем RANDOM SEED, чтобы ваш эксперимент был воспроизводим!\n",
    "    np.random.seed(1)  \n",
    "    random_array = np.random.randint(1,101, size=(1000))\n",
    "    \n",
    "    for number in random_array:\n",
    "        count_ls.append(game_core(number))\n",
    "    score = int(np.mean(count_ls))\n",
    "    print(f\"Ваш алгоритм угадывает число в среднем за {score} попыток\")\n",
    "    return(score)\n",
    "\n",
    "\n",
    "def get_median(line):\n",
    "    '''Функция для определения медианы списка'''\n",
    "    b = len(line)  # определяем длинну списка\n",
    "    result = line[int((b)/2)]\n",
    "    return result\n",
    "\n",
    "\n",
    "def game_core_v3(number):\n",
    "    '''Функция для поиска произвольно заданного числа в диапазоне \n",
    "       от 1 до 100 методом деления пополам. \n",
    "       Функция принимает загаданное чило и возвращает количестов попыток \n",
    "       (count) понадобившихся для его поиска.\n",
    "       Реализация поиска происходит через последовательное \n",
    "       создание списков в два раза короче предыдущего '''\n",
    "    \n",
    "    count = 1\n",
    "    min_x=0  #переменная для определия значения для начального элемента списка  \n",
    "    max_y=101 # переменная для определния значения конечного элемента списка\n",
    "    predict=-1 # переменная принимающее значение для сравнения с искомым занчением \n",
    "    \n",
    "    # объявлем список и присваеваем ему значения диапазона возможных значений \n",
    "    my_list=[x for x in range (min_x,max_y)]  \n",
    "    \n",
    "    \n",
    "    while number != predict:\n",
    "        count+=1 \n",
    "        predict=get_median(my_list) \n",
    "       \n",
    "        if predict>number:\n",
    "            max_y=int(predict)\n",
    "            my_list=[x for x in range (int(min_x),int(predict))]          \n",
    "        else:\n",
    "            min_x=int(predict)\n",
    "            my_list=[x for x in range (int(predict),int(max_y))]\n",
    "        \n",
    "    return(count) # выход из цикла, если угадали\n",
    "\n",
    "\n",
    "score_game(game_core_v3)"
   ]
  },
  {
   "cell_type": "code",
   "execution_count": null,
   "metadata": {},
   "outputs": [],
   "source": []
  }
 ],
 "metadata": {
  "kernelspec": {
   "display_name": "Python 3",
   "language": "python",
   "name": "python3"
  },
  "language_info": {
   "codemirror_mode": {
    "name": "ipython",
    "version": 3
   },
   "file_extension": ".py",
   "mimetype": "text/x-python",
   "name": "python",
   "nbconvert_exporter": "python",
   "pygments_lexer": "ipython3",
   "version": "3.7.6"
  }
 },
 "nbformat": 4,
 "nbformat_minor": 4
}
